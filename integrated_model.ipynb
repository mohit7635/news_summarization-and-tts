{
 "cells": [
  {
   "cell_type": "code",
   "execution_count": null,
   "id": "62a79e27-90d0-485d-96d4-814c8825b6b1",
   "metadata": {},
   "outputs": [],
   "source": [
    "from transformers import pipeline\n",
    "\n",
    "# Load Summarization Model\n",
    "summarizer = pipeline(\"summarization\", model=\"facebook/bart-large-cnn\")\n",
    "\n",
    "# Example News Text\n",
    "news_text = \"\"\"The stock market saw a significant rise today, with tech companies leading the surge. \n",
    "Investors are optimistic about the latest economic policies introduced by the government.\"\"\"\n",
    "\n",
    "# Generate Summary\n",
    "summary = summarizer(news_text, max_length=50, min_length=20, do_sample=False)\n",
    "summarized_text = summary[0]['summary_text']\n",
    "\n",
    "print(\"Summarized Text:\", summarized_text)\n"
   ]
  },
  {
   "cell_type": "code",
   "execution_count": 1,
   "id": "eba0b7e7-10bd-4344-a8eb-851b22f83ad6",
   "metadata": {},
   "outputs": [
    {
     "ename": "ModuleNotFoundError",
     "evalue": "No module named 'TTS'",
     "output_type": "error",
     "traceback": [
      "\u001b[1;31m---------------------------------------------------------------------------\u001b[0m",
      "\u001b[1;31mModuleNotFoundError\u001b[0m                       Traceback (most recent call last)",
      "Cell \u001b[1;32mIn[1], line 1\u001b[0m\n\u001b[1;32m----> 1\u001b[0m \u001b[38;5;28;01mfrom\u001b[39;00m \u001b[38;5;21;01mTTS\u001b[39;00m\u001b[38;5;21;01m.\u001b[39;00m\u001b[38;5;21;01mapi\u001b[39;00m \u001b[38;5;28;01mimport\u001b[39;00m TTS\n\u001b[0;32m      3\u001b[0m \u001b[38;5;66;03m# Load Hindi TTS Model\u001b[39;00m\n\u001b[0;32m      4\u001b[0m tts_model \u001b[38;5;241m=\u001b[39m TTS(\u001b[38;5;124m\"\u001b[39m\u001b[38;5;124mtts_models/multilingual/multi-dataset/your_tts\u001b[39m\u001b[38;5;124m\"\u001b[39m)\u001b[38;5;241m.\u001b[39mto(\u001b[38;5;124m\"\u001b[39m\u001b[38;5;124mcpu\u001b[39m\u001b[38;5;124m\"\u001b[39m)\n",
      "\u001b[1;31mModuleNotFoundError\u001b[0m: No module named 'TTS'"
     ]
    }
   ],
   "source": [
    "from TTS.api import TTS\n",
    "\n",
    "# Load Hindi TTS Model\n",
    "tts_model = TTS(\"tts_models/multilingual/multi-dataset/your_tts\").to(\"cpu\")\n",
    "\n",
    "# Convert Text to Speech\n",
    "tts_model.tts_to_file(text=summarized_text, speaker=\"default\", language=\"hi\", file_path=\"news_summary.wav\")\n",
    "\n",
    "print(\"Audio Saved as news_summary.wav\")\n"
   ]
  },
  {
   "cell_type": "code",
   "execution_count": null,
   "id": "e2dfc5d0-1771-444c-bb47-818abac14920",
   "metadata": {},
   "outputs": [],
   "source": [
    "from transformers import pipeline\n",
    "from TTS.api import TTS\n",
    "\n",
    "# Load Summarization Model\n",
    "summarizer = pipeline(\"summarization\", model=\"facebook/bart-large-cnn\")\n",
    "\n",
    "# Load TTS Model\n",
    "tts_model = TTS(\"tts_models/multilingual/multi-dataset/your_tts\").to(\"cpu\")\n",
    "\n",
    "# Step 1: Summarize News\n",
    "news_text = \"\"\"The stock market saw a significant rise today, with tech companies leading the surge. \n",
    "Investors are optimistic about the latest economic policies introduced by the government.\"\"\"\n",
    "summary = summarizer(news_text, max_length=50, min_length=20, do_sample=False)\n",
    "summarized_text = summary[0]['summary_text']\n",
    "\n",
    "# Step 2: Convert Summary to Speech\n",
    "tts_model.tts_to_file(text=summarized_text, speaker=\"default\", language=\"hi\", file_path=\"news_summary.wav\")\n",
    "\n",
    "print(\"Summary Audio Saved as news_summary.wav\")\n"
   ]
  },
  {
   "cell_type": "code",
   "execution_count": null,
   "id": "0da0d2a5-bafb-46a5-8d32-87e37ee86bd6",
   "metadata": {},
   "outputs": [],
   "source": []
  }
 ],
 "metadata": {
  "kernelspec": {
   "display_name": "Python 3 (ipykernel)",
   "language": "python",
   "name": "python3"
  },
  "language_info": {
   "codemirror_mode": {
    "name": "ipython",
    "version": 3
   },
   "file_extension": ".py",
   "mimetype": "text/x-python",
   "name": "python",
   "nbconvert_exporter": "python",
   "pygments_lexer": "ipython3",
   "version": "3.11.7"
  }
 },
 "nbformat": 4,
 "nbformat_minor": 5
}
